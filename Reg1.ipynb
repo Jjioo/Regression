{
  "nbformat": 4,
  "nbformat_minor": 0,
  "metadata": {
    "colab": {
      "provenance": []
    },
    "kernelspec": {
      "name": "python3",
      "display_name": "Python 3"
    },
    "language_info": {
      "name": "python"
    }
  },
  "cells": [
    {
      "cell_type": "code",
      "source": [
        "import numpy as np\n",
        "import pandas as pd\n",
        "\n",
        "# Read the CSV file\n",
        "data = pd.read_csv('data.csv')\n",
        "column_names = data.columns.tolist()\n",
        "\n",
        "# Print column names\n",
        "print(column_names)\n",
        "\n"
      ],
      "metadata": {
        "colab": {
          "base_uri": "https://localhost:8080/"
        },
        "id": "jo0aGPReim0w",
        "outputId": "b425f660-1104-490a-f0e0-f4cfbfd1097b"
      },
      "execution_count": 24,
      "outputs": [
        {
          "output_type": "stream",
          "name": "stdout",
          "text": [
            "['SAT', 'GPA']\n"
          ]
        }
      ]
    },
    {
      "cell_type": "code",
      "source": [
        "data.shape"
      ],
      "metadata": {
        "colab": {
          "base_uri": "https://localhost:8080/"
        },
        "id": "pr4IqGsTjtyz",
        "outputId": "dfbb55fe-5159-4a29-c224-1c2ce9d3f6fe"
      },
      "execution_count": 25,
      "outputs": [
        {
          "output_type": "execute_result",
          "data": {
            "text/plain": [
              "(84, 2)"
            ]
          },
          "metadata": {},
          "execution_count": 25
        }
      ]
    },
    {
      "cell_type": "code",
      "source": [
        "# Extract the independent variable (X) and dependent variable (y)\n",
        "X = data['SAT'].values\n",
        "y = data['GPA'].values"
      ],
      "metadata": {
        "id": "apq-dfmui2lZ"
      },
      "execution_count": 26,
      "outputs": []
    },
    {
      "cell_type": "code",
      "execution_count": 27,
      "metadata": {
        "colab": {
          "base_uri": "https://localhost:8080/"
        },
        "id": "0pbyAikph4wR",
        "outputId": "f4800471-7f96-43b7-e72e-7814d918e5e8"
      },
      "outputs": [
        {
          "output_type": "stream",
          "name": "stdout",
          "text": [
            "Optimal theta: [3.33008766 0.17202913]\n",
            "Final cost: 0.02165044467682986\n",
            "Accuracy (R-squared): 0.40600360351084597\n"
          ]
        }
      ],
      "source": [
        "# Normalize the independent variable\n",
        "X = (X - np.mean(X)) / np.std(X)\n",
        "\n",
        "# Add a column of ones to X for the intercept term\n",
        "X = np.column_stack((np.ones(len(X)), X))\n",
        "\n",
        "# Initialize the parameters\n",
        "theta = np.zeros(X.shape[1])\n",
        "\n",
        "# Define the cost function\n",
        "def cost_function(X, y, theta):\n",
        "    m = len(y)\n",
        "    h = np.dot(X, theta)\n",
        "    J = (1 / (2 * m)) * np.sum((h - y) ** 2)\n",
        "    return J\n",
        "\n",
        "# Define the gradient descent function\n",
        "def gradient_descent(X, y, theta, learning_rate, num_iterations):\n",
        "    m = len(y)\n",
        "    J_history = []\n",
        "    for i in range(num_iterations):\n",
        "        h = np.dot(X, theta)\n",
        "        gradient = (1 / m) * np.dot(X.T, (h - y))\n",
        "        theta = theta - learning_rate * gradient\n",
        "        J_history.append(cost_function(X, y, theta))\n",
        "    return theta, J_history\n",
        "\n",
        "# Set the learning rate and number of iterations\n",
        "learning_rate = 0.001\n",
        "num_iterations = 10000\n",
        "\n",
        "# Run gradient descent\n",
        "theta_optimal, J_history = gradient_descent(X, y, theta, learning_rate, num_iterations)\n",
        "\n",
        "# Print the optimal parameters\n",
        "print(\"Optimal theta:\", theta_optimal)\n",
        "\n",
        "# Print the final cost\n",
        "final_cost = cost_function(X, y, theta_optimal)\n",
        "print(\"Final cost:\", final_cost)\n",
        "\n",
        "# Calculate the accuracy (R-squared)\n",
        "y_pred = np.dot(X, theta_optimal)\n",
        "ss_total = np.sum((y - np.mean(y)) ** 2)\n",
        "ss_residual = np.sum((y - y_pred) ** 2)\n",
        "\n",
        "if ss_total != 0:  # Add a check to avoid division by zero\n",
        "    accuracy = 1 - (ss_residual / ss_total)\n",
        "else:\n",
        "    accuracy = float('inf')  # Handle the case when ss_total is zero\n",
        "\n",
        "print(\"Accuracy (R-squared):\", accuracy)\n"
      ]
    },
    {
      "cell_type": "markdown",
      "source": [
        "y = 3.3302381 + 0.1720369 * X : The first value, 3.3302381, represents the intercept term, and the second value, 0.1720369, represents the coefficient for the independent variable X."
      ],
      "metadata": {
        "id": "6FxPADZ9lXGA"
      }
    },
    {
      "cell_type": "code",
      "source": [],
      "metadata": {
        "id": "x3oD9vhxlWk8"
      },
      "execution_count": null,
      "outputs": []
    },
    {
      "cell_type": "code",
      "source": [],
      "metadata": {
        "id": "dNuwRAIqlMBm"
      },
      "execution_count": null,
      "outputs": []
    }
  ]
}