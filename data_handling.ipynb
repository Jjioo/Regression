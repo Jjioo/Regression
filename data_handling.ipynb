{
  "nbformat": 4,
  "nbformat_minor": 0,
  "metadata": {
    "colab": {
      "provenance": []
    },
    "kernelspec": {
      "name": "python3",
      "display_name": "Python 3"
    },
    "language_info": {
      "name": "python"
    }
  },
  "cells": [
    {
      "cell_type": "code",
      "source": [
        "import pandas as pd\n",
        "import numpy as np\n",
        "from sklearn.impute import SimpleImputer\n",
        "from sklearn.preprocessing import LabelEncoder"
      ],
      "metadata": {
        "id": "KNiaApHV9mAC"
      },
      "execution_count": 1,
      "outputs": []
    },
    {
      "cell_type": "code",
      "execution_count": 2,
      "metadata": {
        "id": "1_QeLgKx9fEo"
      },
      "outputs": [],
      "source": [
        "def preprocess_data(data):\n",
        "    # Separate the features (X) and the target variable (y)\n",
        "    X = data.drop('y', axis=1)\n",
        "    y = data['y']\n",
        "\n",
        "    # Handle NaN or 0 values in numeric columns\n",
        "    numeric_cols = X.select_dtypes(include=['int64', 'float64']).columns\n",
        "    X[numeric_cols] = X[numeric_cols].replace(0, np.nan)\n",
        "    imputer = SimpleImputer(strategy='mean')\n",
        "    X[numeric_cols] = imputer.fit_transform(X[numeric_cols])\n",
        "\n",
        "    # Convert text data to numeric representations\n",
        "    text_cols = X.select_dtypes(include=['object']).columns\n",
        "    for col in text_cols:\n",
        "        label_encoder = LabelEncoder()\n",
        "        X[col] = label_encoder.fit_transform(X[col])\n",
        "\n",
        "    return X, y"
      ]
    },
    {
      "cell_type": "code",
      "source": [
        "def encode_text_column_using_label_encoding(df, column_name):\n",
        "    \"\"\"\n",
        "    Encode a text column in a dataframe using label encoding.\n",
        "    \n",
        "    Parameters:\n",
        "    df (pandas dataframe): The dataframe to encode\n",
        "    column_name (str): The name of the text column to encode\n",
        "    \n",
        "    Returns:\n",
        "    pandas dataframe: The updated dataframe with the encoded column\n",
        "    \"\"\"\n",
        "    # Create a LabelEncoder object\n",
        "    le = LabelEncoder()\n",
        "    \n",
        "    # Encode the column using label encoding\n",
        "    encoded = le.fit_transform(df[column_name])\n",
        "    \n",
        "    # Replace the original column with the encoded values\n",
        "    df[column_name] = encoded\n",
        "    \n",
        "    # Return the updated dataframe\n",
        "    return df\n"
      ],
      "metadata": {
        "id": "pDMSt3AU9p2p"
      },
      "execution_count": 3,
      "outputs": []
    },
    {
      "cell_type": "code",
      "source": [
        "# Read the data from the CSV file\n",
        "data = pd.read_csv('data.csv')\n",
        "column_names = data.columns.tolist()\n",
        "print(column_names)"
      ],
      "metadata": {
        "id": "1gIdWuro9ru5"
      },
      "execution_count": null,
      "outputs": []
    },
    {
      "cell_type": "code",
      "source": [
        "data = encode_text_column_using_label_encoding(data, \"y\")\n",
        "X, y = preprocess_data(data)"
      ],
      "metadata": {
        "id": "JLT3wtsO9xDp"
      },
      "execution_count": null,
      "outputs": []
    }
  ]
}