{
  "nbformat": 4,
  "nbformat_minor": 0,
  "metadata": {
    "colab": {
      "provenance": []
    },
    "kernelspec": {
      "name": "python3",
      "display_name": "Python 3"
    },
    "language_info": {
      "name": "python"
    }
  },
  "cells": [
    {
      "cell_type": "code",
      "source": [
        "import numpy as np\n",
        "import pandas as pd\n",
        "from sklearn.linear_model import LinearRegression\n",
        "from sklearn.preprocessing import PolynomialFeatures\n",
        "from sklearn.metrics import mean_squared_error, r2_score\n",
        "\n",
        "# Read the CSV file\n",
        "data = pd.read_csv('data.csv')\n",
        "column_names = data.columns.tolist()\n",
        "\n",
        "# Print column names\n",
        "print(column_names)\n",
        "\n"
      ],
      "metadata": {
        "colab": {
          "base_uri": "https://localhost:8080/"
        },
        "id": "jo0aGPReim0w",
        "outputId": "8df9813a-7f6c-4534-aade-7bf2baa540f1"
      },
      "execution_count": 30,
      "outputs": [
        {
          "output_type": "stream",
          "name": "stdout",
          "text": [
            "['SAT', 'GPA']\n"
          ]
        }
      ]
    },
    {
      "cell_type": "code",
      "source": [
        "# Extract the independent variable (X) and dependent variable (y)\n",
        "X = data['SAT'].values.reshape(-1, 1)\n",
        "y = data['GPA'].values\n"
      ],
      "metadata": {
        "id": "apq-dfmui2lZ"
      },
      "execution_count": 32,
      "outputs": []
    },
    {
      "cell_type": "code",
      "source": [
        "# Create polynomial features\n",
        "degree = 2  # Degree of the polynomial\n",
        "poly_features = PolynomialFeatures(degree=degree)\n",
        "X_poly = poly_features.fit_transform(X)\n",
        "\n",
        "# Fit the linear regression model\n",
        "model = LinearRegression()\n",
        "model.fit(X_poly, y)\n",
        "\n",
        "# Make predictions\n",
        "y_pred = model.predict(X_poly)\n",
        "\n",
        "# Calculate evaluation metrics\n",
        "mse = mean_squared_error(y, y_pred)\n",
        "r2 = r2_score(y, y_pred) #accuracy \n",
        "\n",
        "# Print the evaluation metrics\n",
        "print(\"Mean Squared Error (MSE):\", mse)\n",
        "print(\"R-squared (R2):\", r2)"
      ],
      "metadata": {
        "colab": {
          "base_uri": "https://localhost:8080/"
        },
        "id": "x3oD9vhxlWk8",
        "outputId": "f7a55481-fcc9-48e2-ad5e-d8c2a9ea0dc6"
      },
      "execution_count": 33,
      "outputs": [
        {
          "output_type": "stream",
          "name": "stdout",
          "text": [
            "Mean Squared Error (MSE): 0.042647877103545825\n",
            "R-squared (R2): 0.41496154708246336\n"
          ]
        }
      ]
    },
    {
      "cell_type": "code",
      "source": [],
      "metadata": {
        "id": "6ym5w5a1mY8q"
      },
      "execution_count": null,
      "outputs": []
    }
  ]
}