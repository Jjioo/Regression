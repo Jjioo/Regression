{
  "nbformat": 4,
  "nbformat_minor": 0,
  "metadata": {
    "colab": {
      "provenance": []
    },
    "kernelspec": {
      "name": "python3",
      "display_name": "Python 3"
    },
    "language_info": {
      "name": "python"
    }
  },
  "cells": [
    {
      "cell_type": "code",
      "source": [
        "import warnings\n",
        "warnings.filterwarnings(\"ignore\")"
      ],
      "metadata": {
        "id": "2eCYCHx3KKva"
      },
      "execution_count": 113,
      "outputs": []
    },
    {
      "cell_type": "code",
      "source": [
        "from sklearn.preprocessing import StandardScaler\n",
        "from sklearn.decomposition import PCA\n",
        "\n",
        "# Preprocess the data (scaling)\n",
        "scaler = StandardScaler()\n",
        "X_scaled = scaler.fit_transform(X)\n",
        "\n",
        "# Perform PCA\n",
        "pca = PCA(n_components=2)  # Specify the number of components you want to keep\n",
        "X_pca = pca.fit_transform(X_scaled)\n",
        "\n",
        "# Access the principal components and explained variance ratio\n",
        "components = pca.components_  # Principal components\n",
        "explained_variance_ratio = pca.explained_variance_ratio_  # Variance explained by each component\n",
        "\n",
        "# Print the explained variance ratio\n",
        "for i, ratio in enumerate(explained_variance_ratio):\n",
        "    print(f\"Explained Variance Ratio of Component {i+1}: {ratio}\")\n",
        "\n",
        "# Plot the data points in the transformed space\n",
        "plt.scatter(X_pca[:, 0], X_pca[:, 1])\n",
        "plt.xlabel(\"Principal Component 1\")\n",
        "plt.ylabel(\"Principal Component 2\")\n",
        "plt.title(\"PCA\")\n",
        "plt.show()\n"
      ],
      "metadata": {
        "id": "zv3RY__HZ2f7"
      },
      "execution_count": null,
      "outputs": []
    }
  ]
}