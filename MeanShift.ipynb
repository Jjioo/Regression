{
  "nbformat": 4,
  "nbformat_minor": 0,
  "metadata": {
    "colab": {
      "provenance": []
    },
    "kernelspec": {
      "name": "python3",
      "display_name": "Python 3"
    },
    "language_info": {
      "name": "python"
    }
  },
  "cells": [
    {
      "cell_type": "code",
      "source": [
        "import warnings\n",
        "warnings.filterwarnings(\"ignore\")"
      ],
      "metadata": {
        "id": "2eCYCHx3KKva"
      },
      "execution_count": 23,
      "outputs": []
    },
    {
      "cell_type": "code",
      "execution_count": 79,
      "metadata": {
        "id": "MFLZVNvsGjCZ"
      },
      "outputs": [],
      "source": [
        "import numpy as np\n",
        "import pandas as pd\n",
        "import matplotlib.pyplot as plt\n",
        "from sklearn.cluster import DBSCAN\n",
        "from sklearn.metrics import silhouette_score\n",
        "from sklearn.preprocessing import StandardScaler\n",
        "from sklearn.cluster import MeanShift"
      ]
    },
    {
      "cell_type": "code",
      "source": [
        "# Read the data from the CSV file\n",
        "data = pd.read_csv('Wholesale customers data.csv')\n",
        "column_names = data.columns.tolist()\n",
        "print(column_names)"
      ],
      "metadata": {
        "colab": {
          "base_uri": "https://localhost:8080/"
        },
        "id": "TTgSFZ45Gj4_",
        "outputId": "ff68d68e-1c31-4258-eda5-c8b0e81c5b14"
      },
      "execution_count": 80,
      "outputs": [
        {
          "output_type": "stream",
          "name": "stdout",
          "text": [
            "['Channel', 'Region', 'Fresh', 'Milk', 'Grocery', 'Frozen', 'Detergents_Paper', 'Delicassen']\n"
          ]
        }
      ]
    },
    {
      "cell_type": "code",
      "source": [
        "# Perform data normalization\n",
        "scaler = StandardScaler()\n",
        "X = data[data.columns[::]]\n",
        "# Normalize the data\n",
        "scaler = StandardScaler()\n",
        "X_scaled = scaler.fit_transform(X)"
      ],
      "metadata": {
        "id": "oRRNY_pvHbHj"
      },
      "execution_count": 81,
      "outputs": []
    },
    {
      "cell_type": "markdown",
      "source": [
        "**Minimum number of samples in a cluster**"
      ],
      "metadata": {
        "id": "9wSDZj5cP_aZ"
      }
    },
    {
      "cell_type": "code",
      "source": [
        "from sklearn.cluster import MeanShift\n",
        "from sklearn.metrics import silhouette_score\n",
        "import numpy as np\n",
        "\n",
        "bandwidth_values = np.linspace(0.1, 20, num=10)\n",
        "best_silhouette_score = -1\n",
        "best_bandwidth = -1\n",
        "\n",
        "for bandwidth in bandwidth_values:\n",
        "    meanshift = MeanShift(bandwidth=bandwidth)\n",
        "    labels = meanshift.fit_predict(X_scaled)\n",
        "\n",
        "    # Check if multiple clusters are identified\n",
        "    n_clusters = len(set(labels))\n",
        "    if n_clusters > 1:\n",
        "        silhouette_avg = silhouette_score(X_scaled, labels)\n",
        "        if silhouette_avg > best_silhouette_score:\n",
        "            best_silhouette_score = silhouette_avg\n",
        "            best_bandwidth = bandwidth\n",
        "\n",
        "# Print the best bandwidth and corresponding silhouette score\n",
        "print(\"Best bandwidth:\", best_bandwidth)\n",
        "print(\"Best Silhouette Score:\", best_silhouette_score)\n"
      ],
      "metadata": {
        "colab": {
          "base_uri": "https://localhost:8080/"
        },
        "id": "gExNoTxOSAlq",
        "outputId": "746e4033-7bd2-492d-8f11-2bd4e3bd61b4"
      },
      "execution_count": 88,
      "outputs": [
        {
          "output_type": "stream",
          "name": "stdout",
          "text": [
            "Best bandwidth: 6.7333333333333325\n",
            "Best Silhouette Score: 0.8263511877226627\n"
          ]
        }
      ]
    },
    {
      "cell_type": "code",
      "source": [
        "# Create the Mean Shift clustering model\n",
        "bandwidth = 6.7333333333333325 # Bandwidth parameter\n",
        "meanshift = MeanShift(bandwidth=bandwidth)\n",
        "\n",
        "# Fit the model on the normalized data\n",
        "meanshift.fit(X_scaled)\n",
        "\n",
        "# Get the cluster labels for each data point\n",
        "labels = meanshift.labels_\n",
        "\n",
        "# Get the cluster centers in the original feature space\n",
        "cluster_centers = scaler.inverse_transform(meanshift.cluster_centers_)\n",
        "\n",
        "# Get the number of clusters\n",
        "n_clusters = len(np.unique(labels))\n",
        "print(\"Number of clusters:\", n_clusters)\n",
        "\n",
        "# Calculate the silhouette score\n",
        "silhouette_avg = silhouette_score(X_scaled, labels)\n",
        "print(\"Silhouette Score:\", silhouette_avg)\n",
        "\n",
        "# Plot a graph for analysis (example with two features)\n",
        "feature1 = 'Channel' # Name of the first feature column\n",
        "feature2 = 'Region' # Name of the second feature column\n",
        "\n",
        "# Extract the values for plotting\n",
        "x1 = X[feature1]\n",
        "x2 = X[feature2]\n",
        "\n",
        "# Plot the data points with their cluster labels\n",
        "plt.scatter(x1, x2, c=labels)\n",
        "plt.scatter(cluster_centers[:, 0], cluster_centers[:, 1], marker='x', color='red', s=100, label='Cluster Centers')\n",
        "plt.xlabel(feature1)\n",
        "plt.ylabel(feature2)\n",
        "plt.title(\"Mean Shift Clustering\")\n",
        "plt.legend()\n",
        "plt.show()"
      ],
      "metadata": {
        "colab": {
          "base_uri": "https://localhost:8080/",
          "height": 509
        },
        "id": "U16DCF9KQa3O",
        "outputId": "54de4b28-a999-4515-efd6-21e3067ee97f"
      },
      "execution_count": 89,
      "outputs": [
        {
          "output_type": "stream",
          "name": "stdout",
          "text": [
            "Number of clusters: 2\n",
            "Silhouette Score: 0.8263511877226627\n"
          ]
        },
        {
          "output_type": "display_data",
          "data": {
            "text/plain": [
              "<Figure size 640x480 with 1 Axes>"
            ],
            "image/png": "[encoded data removed]"
          },
          "metadata": {}
        }
      ]
    },
    {
      "cell_type": "code",
      "source": [],
      "metadata": {
        "id": "Fa2ul_FVPbmx"
      },
      "execution_count": null,
      "outputs": []
    }
  ]
}