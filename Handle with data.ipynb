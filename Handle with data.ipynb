{
  "nbformat": 4,
  "nbformat_minor": 0,
  "metadata": {
    "colab": {
      "provenance": []
    },
    "kernelspec": {
      "name": "python3",
      "display_name": "Python 3"
    },
    "language_info": {
      "name": "python"
    }
  },
  "cells": [
    {
      "cell_type": "markdown",
      "source": [
        "**checks the data types of each column and applies appropriate transformations accordingly**"
      ],
      "metadata": {
        "id": "PWg1M91jqk0t"
      }
    },
    {
      "cell_type": "code",
      "source": [
        "import pandas as pd\n",
        "import numpy as np\n",
        "from sklearn.impute import SimpleImputer\n",
        "from sklearn.preprocessing import LabelEncoder\n",
        "\n",
        "def preprocess_data(data):\n",
        "    # Separate the features (X) and the target variable (y)\n",
        "    X = data.drop('quality', axis=1)\n",
        "    y = data['quality']\n",
        "\n",
        "    # Handle NaN or 0 values in numeric columns\n",
        "    numeric_cols = X.select_dtypes(include=['int64', 'float64']).columns\n",
        "    X[numeric_cols] = X[numeric_cols].replace(0, np.nan)\n",
        "    imputer = SimpleImputer(strategy='mean')\n",
        "    X[numeric_cols] = imputer.fit_transform(X[numeric_cols])\n",
        "\n",
        "    # Convert text data to numeric representations\n",
        "    text_cols = X.select_dtypes(include=['object']).columns\n",
        "    for col in text_cols:\n",
        "        label_encoder = LabelEncoder()\n",
        "        X[col] = label_encoder.fit_transform(X[col])\n",
        "\n",
        "    return X, y\n",
        "\n",
        "# Read the data from the CSV file\n",
        "data = pd.read_csv('winequalityN.csv')\n",
        "\n",
        "# Preprocess the data\n",
        "X, y = preprocess_data(data)\n",
        "\n",
        "# Print the preprocessed data\n"
      ],
      "metadata": {
        "id": "0UZmBbcKsd3M"
      },
      "execution_count": 52,
      "outputs": []
    },
    {
      "cell_type": "code",
      "source": [],
      "metadata": {
        "id": "D1rtu0WYtMN_"
      },
      "execution_count": null,
      "outputs": []
    }
  ]
}