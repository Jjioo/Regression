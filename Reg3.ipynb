{
  "nbformat": 4,
  "nbformat_minor": 0,
  "metadata": {
    "colab": {
      "provenance": []
    },
    "kernelspec": {
      "name": "python3",
      "display_name": "Python 3"
    },
    "language_info": {
      "name": "python"
    }
  },
  "cells": [
    {
      "cell_type": "code",
      "source": [
        "import numpy as np\n",
        "import pandas as pd\n",
        "from sklearn.linear_model import LinearRegression\n",
        "from sklearn.preprocessing import StandardScaler, LabelEncoder, OneHotEncoder\n",
        "from sklearn.compose import ColumnTransformer\n",
        "from sklearn.pipeline import Pipeline\n",
        "from sklearn.metrics import mean_squared_error, r2_score\n",
        "import seaborn as sns\n",
        "import matplotlib.pyplot as plt\n",
        "\n",
        "# Read the CSV file\n",
        "data = pd.read_csv('multiple_linear_regression_dataset.csv')\n",
        "column_names = data.columns.tolist()\n",
        "\n",
        "# Print column names\n",
        "print(column_names)\n",
        "\n"
      ],
      "metadata": {
        "colab": {
          "base_uri": "https://localhost:8080/"
        },
        "id": "jo0aGPReim0w",
        "outputId": "66b78019-da45-48ef-bcd7-e05e677e64cf"
      },
      "execution_count": 43,
      "outputs": [
        {
          "output_type": "stream",
          "name": "stdout",
          "text": [
            "['age', 'experience', 'income']\n"
          ]
        }
      ]
    },
    {
      "cell_type": "code",
      "source": [
        "# Preprocess data\n",
        "X = data.drop('income', axis=1)  # Independent variables\n",
        "y = data['income']  # Dependent variable\n"
      ],
      "metadata": {
        "id": "apq-dfmui2lZ"
      },
      "execution_count": 41,
      "outputs": []
    },
    {
      "cell_type": "code",
      "source": [
        "# Define preprocessing steps for different types of columns\n",
        "numeric_cols = ['age', 'experience']  # Columns with numeric values\n",
        "categorical_cols = []  # Columns with categorical values (none in this case)\n",
        "\n",
        "numeric_transformer = Pipeline(steps=[\n",
        "    ('scaler', StandardScaler())  # Apply standardization to numeric columns\n",
        "])\n",
        "\n",
        "categorical_transformer = Pipeline(steps=[\n",
        "    ('label_encoder', LabelEncoder()),  # Convert categorical values to numerical labels\n",
        "    ('one_hot_encoder', OneHotEncoder())  # Perform one-hot encoding on categorical columns\n",
        "])\n",
        "\n",
        "preprocessor = ColumnTransformer(transformers=[\n",
        "    ('numeric', numeric_transformer, numeric_cols),\n",
        "    ('categorical', categorical_transformer, categorical_cols)\n",
        "])\n",
        "\n",
        "# Fit the preprocessor on X\n",
        "X_preprocessed = preprocessor.fit_transform(X)\n",
        "\n",
        "# Create the regression model\n",
        "model = LinearRegression()\n",
        "\n",
        "# Fit the model on preprocessed data\n",
        "model.fit(X_preprocessed, y)\n",
        "\n",
        "# Make predictions\n",
        "y_pred = model.predict(X_preprocessed)\n",
        "\n",
        "# Calculate evaluation metrics\n",
        "mse = mean_squared_error(y, y_pred)\n",
        "r2 = r2_score(y, y_pred)\n",
        "\n",
        "# Print the evaluation metrics\n",
        "print(\"Mean Squared Error (MSE):\", mse)\n",
        "print(\"R-squared (R2):\", r2)\n"
      ],
      "metadata": {
        "colab": {
          "base_uri": "https://localhost:8080/"
        },
        "id": "x3oD9vhxlWk8",
        "outputId": "458f9f8d-89fa-4723-8ec7-005851ff23af"
      },
      "execution_count": 42,
      "outputs": [
        {
          "output_type": "stream",
          "name": "stdout",
          "text": [
            "Mean Squared Error (MSE): 1533633.9787141816\n",
            "R-squared (R2): 0.9773361310180797\n"
          ]
        }
      ]
    },
    {
      "cell_type": "code",
      "source": [
        "correlation_matrix = data.corr()\n",
        "\n",
        "# Create a heatmap plot\n",
        "plt.figure(figsize=(8, 6))\n",
        "sns.heatmap(correlation_matrix, annot=True, cmap='coolwarm', square=True)\n",
        "plt.title('Correlation Matrix')\n",
        "plt.show()"
      ],
      "metadata": {
        "colab": {
          "base_uri": "https://localhost:8080/",
          "height": 545
        },
        "id": "6ym5w5a1mY8q",
        "outputId": "9fe8c96f-7823-468c-86ff-82f6d2e85297"
      },
      "execution_count": 44,
      "outputs": [
        {
          "output_type": "display_data",
          "data": {
            "text/plain": [
              "<Figure size 800x600 with 2 Axes>"
            ],
            "image/png": "[encoded data removed]"
          },
          "metadata": {}
        }
      ]
    },
    {
      "cell_type": "code",
      "source": [],
      "metadata": {
        "id": "gFo7ugnJoNPI"
      },
      "execution_count": null,
      "outputs": []
    }
  ]
}